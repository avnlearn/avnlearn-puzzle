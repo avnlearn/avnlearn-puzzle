{
 "cells": [
  {
   "cell_type": "code",
   "execution_count": null,
   "metadata": {},
   "outputs": [],
   "source": [
    "from avn_puzzle.randunit import RandUnit, Eval"
   ]
  },
  {
   "cell_type": "markdown",
   "metadata": {},
   "source": [
    "# Integer"
   ]
  },
  {
   "cell_type": "code",
   "execution_count": null,
   "metadata": {},
   "outputs": [
    {
     "name": "stdout",
     "output_type": "stream",
     "text": [
      "-8 Z-\n",
      "3 Z+\n",
      "78 Z+\n",
      "-83 Z-\n",
      "sympy.Integer(3) Function+\n"
     ]
    }
   ],
   "source": [
    "Name = \"Z\"\n",
    "Number_lst = [1, \"1\", 2, \"2\", \"Integer(1)\"]\n",
    "for i in Number_lst:\n",
    "    Integer = RandUnit(unit = i, name = Name)\n",
    "    print(Integer, Integer.name)"
   ]
  },
  {
   "cell_type": "code",
   "execution_count": null,
   "metadata": {},
   "outputs": [
    {
     "data": {
      "text/plain": [
       "[7, 6, 70, 28, ]"
      ]
     },
     "execution_count": 3,
     "metadata": {},
     "output_type": "execute_result"
    }
   ],
   "source": [
    "list(map(RandUnit, Number_lst))"
   ]
  },
  {
   "cell_type": "markdown",
   "metadata": {},
   "source": [
    "# Decimal"
   ]
  },
  {
   "cell_type": "code",
   "execution_count": null,
   "metadata": {},
   "outputs": [
    {
     "name": "stdout",
     "output_type": "stream",
     "text": [
      "-3.31 D-\n",
      "0.56 D+\n",
      "27.0 D+\n",
      "-0.4 D-\n",
      "-432.0 D-\n",
      "-decimal.Decimal(str(605.0)) D-\n",
      "-decimal.Decimal(str(637.0)) D-\n"
     ]
    }
   ],
   "source": [
    "Name = \"D\"\n",
    "Number_lst = [\"1.2\", \"0.2\", \"2.0\", \"-0.1\", \"-3.0\", \"Decimal(3.0)\", \"-Decimal(3.0)\"]\n",
    "for i in Number_lst:\n",
    "    Integer = RandUnit(unit = i, name = Name)\n",
    "    print(Integer, Integer.name)"
   ]
  },
  {
   "cell_type": "code",
   "execution_count": null,
   "metadata": {},
   "outputs": [
    {
     "data": {
      "text/plain": [
       "[5.1, 0.25, 31.0, 0.2, 390.0, 362.0, -426.0]"
      ]
     },
     "execution_count": 5,
     "metadata": {},
     "output_type": "execute_result"
    }
   ],
   "source": [
    "list(map(RandUnit, Number_lst))"
   ]
  },
  {
   "cell_type": "markdown",
   "metadata": {},
   "source": [
    "# Fraction"
   ]
  },
  {
   "cell_type": "code",
   "execution_count": null,
   "metadata": {},
   "outputs": [
    {
     "name": "stdout",
     "output_type": "stream",
     "text": [
      "fractions.Fraction(-6, -3) Q-\n",
      "fractions.Fraction(7, 674) Q+\n",
      "fractions.Fraction(48, 6) Q+\n",
      "fractions.Fraction(-48, 525) Q-\n",
      "fractions.Fraction(5, 4) Q+\n",
      "fractions.Fraction(6, 93) Q+\n",
      "sympy.Rational(0.751, -4144) Function+\n"
     ]
    }
   ],
   "source": [
    "Name = \"Q\"\n",
    "Number_lst = [\"1/1\", \"1/3\", \"2/-1\", \"-2/3\", \"-1/-1\", \"Fraction(1, 2)\", \"Rational(0.3, 4)\"]\n",
    "for i in Number_lst:\n",
    "    Integer = RandUnit(unit = i, name = Name)\n",
    "    print(Integer, Integer.name)"
   ]
  },
  {
   "cell_type": "markdown",
   "metadata": {},
   "source": [
    "# Irrational"
   ]
  },
  {
   "cell_type": "code",
   "execution_count": null,
   "metadata": {},
   "outputs": [
    {
     "name": "stdout",
     "output_type": "stream",
     "text": [
      "-sympy.sqrt(66) T-\n",
      "sympy.sqrt(715) T+\n",
      "sympy.sqrt(6) T+\n",
      "-sympy.sqrt(2.1) T-\n",
      "-sympy.sqrt(fractions.Fraction(686, 50)) T-\n"
     ]
    }
   ],
   "source": [
    "Name = \"T\"\n",
    "Number_lst = [\"sqrt(2)\", \"sqrt(3)\", \"sqrt(1)\", \"sqrt(1.1)\", \"sqrt(3/2)\"]\n",
    "for i in Number_lst:\n",
    "    Integer = RandUnit(unit = i, name = Name)\n",
    "    print(Integer, Integer.name)"
   ]
  },
  {
   "cell_type": "markdown",
   "metadata": {},
   "source": [
    "# Real Number"
   ]
  },
  {
   "cell_type": "code",
   "execution_count": null,
   "metadata": {},
   "outputs": [
    {
     "name": "stdout",
     "output_type": "stream",
     "text": [
      "82 * sympy.sqrt(17) R+\n",
      "sympy.sqrt(764) * 86 R+\n",
      "sympy.sqrt(4) * 33 R+\n",
      "sympy.sqrt(5.1) + 7316 R+\n",
      "sympy.sqrt(fractions.Fraction(636, 55)) T+\n"
     ]
    }
   ],
   "source": [
    "\n",
    "Number_lst = [\"2*sqrt(2)\", \"sqrt(3)*2\", \"sqrt(1)*2\", \"sqrt(1.1) + 4\", \"sqrt(3/2)\"]\n",
    "for i in Number_lst:\n",
    "    Integer = RandUnit(unit = i)\n",
    "    print(Integer, Integer.name)"
   ]
  },
  {
   "cell_type": "markdown",
   "metadata": {},
   "source": [
    "# Imaginary"
   ]
  },
  {
   "cell_type": "code",
   "execution_count": null,
   "metadata": {},
   "outputs": [
    {
     "name": "stdout",
     "output_type": "stream",
     "text": [
      "sympy.sqrt(55)\n",
      "sympy.sqrt(464)\n",
      "sympy.sqrt(3)\n",
      "sympy.sqrt(2.7)\n",
      "sympy.sqrt(fractions.Fraction(-378, 67))\n"
     ]
    }
   ],
   "source": [
    "Number_lst = [\"sqrt(-2)\", \"sqrt(-3)\", \"sqrt(-1)\", \"sqrt(-1.1)\", \"sqrt(-3/2)\"]\n",
    "for i in Number_lst:\n",
    "    Integer = RandUnit(unit = i)\n",
    "    print(Integer)"
   ]
  },
  {
   "cell_type": "code",
   "execution_count": null,
   "metadata": {},
   "outputs": [
    {
     "name": "stdout",
     "output_type": "stream",
     "text": [
      "Z P\n"
     ]
    },
    {
     "data": {
      "text/plain": [
       "6 \\times 10^{22}"
      ]
     },
     "execution_count": 10,
     "metadata": {},
     "output_type": "execute_result"
    }
   ],
   "source": [
    "unit = {\"unit\" : \"1 * 10**2\", \"base_change\" : False}\n",
    "RandUnit(**unit)"
   ]
  },
  {
   "cell_type": "markdown",
   "metadata": {},
   "source": [
    "# Arithmetic"
   ]
  },
  {
   "cell_type": "code",
   "execution_count": null,
   "metadata": {},
   "outputs": [
    {
     "name": "stdout",
     "output_type": "stream",
     "text": [
      "1.5\n",
      "-3.4\n"
     ]
    }
   ],
   "source": [
    "unit = {\"name\" : \"Z\", \"unit\" : 2}\n",
    "unit = {\"unit\" : \"1.1\", \"name\" : \"D\"}\n",
    "a = RandUnit(**unit)\n",
    "b = RandUnit(**unit)\n",
    "print(a)\n",
    "print(b)"
   ]
  },
  {
   "cell_type": "markdown",
   "metadata": {},
   "source": [
    "## Addition"
   ]
  },
  {
   "cell_type": "code",
   "execution_count": null,
   "metadata": {},
   "outputs": [
    {
     "data": {
      "text/plain": [
       "1.5 + \\left(-3.4\\right)"
      ]
     },
     "execution_count": 12,
     "metadata": {},
     "output_type": "execute_result"
    }
   ],
   "source": [
    "a + b"
   ]
  },
  {
   "cell_type": "markdown",
   "metadata": {},
   "source": [
    "## Subtraction"
   ]
  },
  {
   "cell_type": "code",
   "execution_count": null,
   "metadata": {},
   "outputs": [
    {
     "data": {
      "text/plain": [
       "1.5 - \\left(-3.4\\right)"
      ]
     },
     "execution_count": 13,
     "metadata": {},
     "output_type": "execute_result"
    }
   ],
   "source": [
    "a - b"
   ]
  },
  {
   "cell_type": "markdown",
   "metadata": {},
   "source": [
    "## Multiplication"
   ]
  },
  {
   "cell_type": "code",
   "execution_count": null,
   "metadata": {},
   "outputs": [
    {
     "name": "stdout",
     "output_type": "stream",
     "text": [
      "D D\n"
     ]
    },
    {
     "data": {
      "text/plain": [
       "1.5 \\times \\left(-3.4\\right)"
      ]
     },
     "execution_count": 14,
     "metadata": {},
     "output_type": "execute_result"
    }
   ],
   "source": [
    "a * b"
   ]
  },
  {
   "cell_type": "markdown",
   "metadata": {},
   "source": [
    "## Division"
   ]
  },
  {
   "cell_type": "code",
   "execution_count": null,
   "metadata": {},
   "outputs": [
    {
     "data": {
      "text/plain": [
       "\\frac{1.5}{-3.4}"
      ]
     },
     "execution_count": 15,
     "metadata": {},
     "output_type": "execute_result"
    }
   ],
   "source": [
    "a / b"
   ]
  },
  {
   "cell_type": "markdown",
   "metadata": {},
   "source": [
    "### Floor Division"
   ]
  },
  {
   "cell_type": "code",
   "execution_count": null,
   "metadata": {},
   "outputs": [
    {
     "data": {
      "text/plain": [
       "\\lfloor\\frac{1.5}{-3.4}\\rfloor"
      ]
     },
     "execution_count": 16,
     "metadata": {},
     "output_type": "execute_result"
    }
   ],
   "source": [
    "a // b"
   ]
  },
  {
   "cell_type": "markdown",
   "metadata": {},
   "source": [
    "### Remainder"
   ]
  },
  {
   "cell_type": "code",
   "execution_count": null,
   "metadata": {},
   "outputs": [
    {
     "data": {
      "text/plain": [
       "1.5 \\mod \\left(-3.4\\right)"
      ]
     },
     "execution_count": 17,
     "metadata": {},
     "output_type": "execute_result"
    }
   ],
   "source": [
    "a % b"
   ]
  },
  {
   "cell_type": "markdown",
   "metadata": {},
   "source": [
    "### Remainder and Multiplication make Dividend"
   ]
  },
  {
   "cell_type": "code",
   "execution_count": null,
   "metadata": {},
   "outputs": [
    {
     "data": {
      "text/plain": [
       "5.1"
      ]
     },
     "execution_count": 18,
     "metadata": {},
     "output_type": "execute_result"
    }
   ],
   "source": [
    "a @ b"
   ]
  },
  {
   "cell_type": "markdown",
   "metadata": {},
   "source": [
    "## Exponentiation"
   ]
  },
  {
   "cell_type": "code",
   "execution_count": null,
   "metadata": {},
   "outputs": [
    {
     "data": {
      "text/plain": [
       "1.5^{-3.4}"
      ]
     },
     "execution_count": 19,
     "metadata": {},
     "output_type": "execute_result"
    }
   ],
   "source": [
    "a ** b"
   ]
  },
  {
   "cell_type": "markdown",
   "metadata": {},
   "source": [
    "# Exponentiation Operation"
   ]
  },
  {
   "cell_type": "code",
   "execution_count": null,
   "metadata": {},
   "outputs": [],
   "source": [
    "unit = {\"unit\" : \"(Symbol('1')/Symbol('2'))**(1/2)\"}\n",
    "a = RandUnit(**unit)\n",
    "b = RandUnit(**unit)"
   ]
  },
  {
   "cell_type": "markdown",
   "metadata": {},
   "source": [
    "## Addition"
   ]
  },
  {
   "cell_type": "code",
   "execution_count": null,
   "metadata": {},
   "outputs": [
    {
     "name": "stdout",
     "output_type": "stream",
     "text": [
      "Div() Pow()\n",
      "Div() Pow()\n",
      "Pow() Add()\n"
     ]
    },
    {
     "data": {
      "text/plain": [
       "\\left(\\frac{1}{2}\\right)^{\\frac{3}{11}} + \\left(\\frac{1}{2}\\right)^{\\frac{8}{90}}"
      ]
     },
     "execution_count": 21,
     "metadata": {},
     "output_type": "execute_result"
    }
   ],
   "source": [
    "a + b"
   ]
  },
  {
   "cell_type": "markdown",
   "metadata": {},
   "source": [
    "## Subtraction"
   ]
  },
  {
   "cell_type": "code",
   "execution_count": null,
   "metadata": {},
   "outputs": [
    {
     "name": "stdout",
     "output_type": "stream",
     "text": [
      "Div() Pow()\n",
      "Div() Pow()\n",
      "Pow() Sub()\n"
     ]
    },
    {
     "data": {
      "text/plain": [
       "\\left(\\frac{1}{2}\\right)^{\\frac{3}{11}} - \\left(\\frac{1}{2}\\right)^{\\frac{8}{90}}"
      ]
     },
     "execution_count": 22,
     "metadata": {},
     "output_type": "execute_result"
    }
   ],
   "source": [
    "a - b"
   ]
  },
  {
   "cell_type": "markdown",
   "metadata": {},
   "source": [
    "## Multiplication"
   ]
  },
  {
   "cell_type": "code",
   "execution_count": null,
   "metadata": {},
   "outputs": [
    {
     "name": "stdout",
     "output_type": "stream",
     "text": [
      "Div() Pow()\n",
      "Div() Pow()\n",
      "Pow() Mult()\n"
     ]
    },
    {
     "data": {
      "text/plain": [
       "\\left(\\frac{1}{2}\\right)^{\\frac{3}{11}}  \\left(\\frac{1}{2}\\right)^{\\frac{8}{90}}"
      ]
     },
     "execution_count": 23,
     "metadata": {},
     "output_type": "execute_result"
    }
   ],
   "source": [
    "a * b"
   ]
  },
  {
   "cell_type": "markdown",
   "metadata": {},
   "source": [
    "## Division"
   ]
  },
  {
   "cell_type": "code",
   "execution_count": null,
   "metadata": {},
   "outputs": [
    {
     "name": "stdout",
     "output_type": "stream",
     "text": [
      "Div() Pow()\n",
      "Div() Pow()\n",
      "Pow() Div()\n",
      "Div() Pow()\n",
      "Div() Pow()\n"
     ]
    },
    {
     "data": {
      "text/plain": [
       "\\frac{\\left(\\frac{1}{2}\\right)^{\\frac{3}{11}}}{\\left(\\frac{1}{2}\\right)^{\\frac{8}{90}}}"
      ]
     },
     "execution_count": 24,
     "metadata": {},
     "output_type": "execute_result"
    }
   ],
   "source": [
    "a / b"
   ]
  },
  {
   "cell_type": "markdown",
   "metadata": {},
   "source": [
    "### Floor Division"
   ]
  },
  {
   "cell_type": "code",
   "execution_count": null,
   "metadata": {},
   "outputs": [
    {
     "name": "stdout",
     "output_type": "stream",
     "text": [
      "Div() Pow()\n",
      "Div() Pow()\n",
      "Pow() FloorDiv()\n",
      "Div() Pow()\n",
      "Div() Pow()\n"
     ]
    },
    {
     "data": {
      "text/plain": [
       "\\lfloor\\frac{\\left(\\frac{1}{2}\\right)^{\\frac{3}{11}}}{\\left(\\frac{1}{2}\\right)^{\\frac{8}{90}}}\\rfloor"
      ]
     },
     "execution_count": 25,
     "metadata": {},
     "output_type": "execute_result"
    }
   ],
   "source": [
    "a // b"
   ]
  },
  {
   "cell_type": "markdown",
   "metadata": {},
   "source": [
    "### Remainder"
   ]
  },
  {
   "cell_type": "code",
   "execution_count": null,
   "metadata": {},
   "outputs": [
    {
     "name": "stdout",
     "output_type": "stream",
     "text": [
      "Div() Pow()\n",
      "Div() Pow()\n",
      "Pow() Mod()\n"
     ]
    },
    {
     "data": {
      "text/plain": [
       "\\left(\\frac{1}{2}\\right)^{\\frac{3}{11}} \\mod \\left(\\frac{1}{2}\\right)^{\\frac{8}{90}}"
      ]
     },
     "execution_count": 26,
     "metadata": {},
     "output_type": "execute_result"
    }
   ],
   "source": [
    "a % b"
   ]
  },
  {
   "cell_type": "markdown",
   "metadata": {},
   "source": [
    "### Remainder and Multiplication make Dividend"
   ]
  },
  {
   "cell_type": "code",
   "execution_count": null,
   "metadata": {},
   "outputs": [
    {
     "data": {
      "text/plain": [
       "\\frac{1}{2}^{\\frac{3}{11}}"
      ]
     },
     "execution_count": 27,
     "metadata": {},
     "output_type": "execute_result"
    }
   ],
   "source": [
    "a @ b"
   ]
  },
  {
   "cell_type": "markdown",
   "metadata": {},
   "source": [
    "## Exponentiation"
   ]
  },
  {
   "cell_type": "code",
   "execution_count": null,
   "metadata": {},
   "outputs": [
    {
     "name": "stdout",
     "output_type": "stream",
     "text": [
      "Div() Pow()\n",
      "Div() Pow()\n",
      "Div() Pow()\n",
      "Div() Pow()\n",
      "Div() Pow()\n"
     ]
    },
    {
     "data": {
      "text/plain": [
       "\\left(\\frac{1}{2}\\right)^{\\frac{3}{11}^{\\left(\\frac{1}{2}\\right)^{\\frac{8}{90}}}}"
      ]
     },
     "execution_count": 28,
     "metadata": {},
     "output_type": "execute_result"
    }
   ],
   "source": [
    "a ** b"
   ]
  },
  {
   "cell_type": "markdown",
   "metadata": {},
   "source": [
    "# Rationalize Operation"
   ]
  },
  {
   "cell_type": "code",
   "execution_count": null,
   "metadata": {},
   "outputs": [],
   "source": [
    "unit = {\"unit\" : \"1/sqrt(1)\", \"eval_BinOp\":False}\n",
    "a = RandUnit(**unit)\n",
    "b = RandUnit(**unit)"
   ]
  },
  {
   "cell_type": "markdown",
   "metadata": {},
   "source": [
    "## Addition"
   ]
  },
  {
   "cell_type": "code",
   "execution_count": null,
   "metadata": {},
   "outputs": [
    {
     "name": "stdout",
     "output_type": "stream",
     "text": [
      "Div() Add()\n"
     ]
    },
    {
     "data": {
      "text/plain": [
       "\\frac{8}{\\sqrt{6}} + \\frac{5}{\\sqrt{2}}"
      ]
     },
     "execution_count": 30,
     "metadata": {},
     "output_type": "execute_result"
    }
   ],
   "source": [
    "a + b"
   ]
  },
  {
   "cell_type": "markdown",
   "metadata": {},
   "source": [
    "## Subtraction"
   ]
  },
  {
   "cell_type": "code",
   "execution_count": null,
   "metadata": {},
   "outputs": [
    {
     "name": "stdout",
     "output_type": "stream",
     "text": [
      "Div() Sub()\n"
     ]
    },
    {
     "data": {
      "text/plain": [
       "\\frac{8}{\\sqrt{6}} - \\frac{5}{\\sqrt{2}}"
      ]
     },
     "execution_count": 31,
     "metadata": {},
     "output_type": "execute_result"
    }
   ],
   "source": [
    "a - b"
   ]
  },
  {
   "cell_type": "markdown",
   "metadata": {},
   "source": [
    "## Multiplication"
   ]
  },
  {
   "cell_type": "code",
   "execution_count": null,
   "metadata": {},
   "outputs": [
    {
     "name": "stdout",
     "output_type": "stream",
     "text": [
      "Div() Mult()\n",
      "Mult() Div()\n",
      "Div() Mult()\n"
     ]
    },
    {
     "data": {
      "text/plain": [
       "\\frac{\\frac{8}{\\sqrt{6}}  5}{\\sqrt{2}}"
      ]
     },
     "execution_count": 32,
     "metadata": {},
     "output_type": "execute_result"
    }
   ],
   "source": [
    "a * b"
   ]
  },
  {
   "cell_type": "markdown",
   "metadata": {},
   "source": [
    "## Division"
   ]
  },
  {
   "cell_type": "code",
   "execution_count": null,
   "metadata": {},
   "outputs": [
    {
     "name": "stdout",
     "output_type": "stream",
     "text": [
      "Div() Div()\n",
      "Div() Div()\n",
      "Div() Div()\n"
     ]
    },
    {
     "data": {
      "text/plain": [
       "\\frac{\\frac{\\frac{8}{\\sqrt{6}}}{5}}{\\sqrt{2}}"
      ]
     },
     "execution_count": 33,
     "metadata": {},
     "output_type": "execute_result"
    }
   ],
   "source": [
    "a / b"
   ]
  },
  {
   "cell_type": "markdown",
   "metadata": {},
   "source": [
    "### Floor Division"
   ]
  },
  {
   "cell_type": "code",
   "execution_count": null,
   "metadata": {},
   "outputs": [
    {
     "name": "stdout",
     "output_type": "stream",
     "text": [
      "Div() FloorDiv()\n",
      "FloorDiv() Div()\n",
      "Div() FloorDiv()\n"
     ]
    },
    {
     "data": {
      "text/plain": [
       "\\frac{\\lfloor\\frac{\\frac{8}{\\sqrt{6}}}{5}\\rfloor}{\\sqrt{2}}"
      ]
     },
     "execution_count": 34,
     "metadata": {},
     "output_type": "execute_result"
    }
   ],
   "source": [
    "a // b"
   ]
  },
  {
   "cell_type": "markdown",
   "metadata": {},
   "source": [
    "### Remainder"
   ]
  },
  {
   "cell_type": "code",
   "execution_count": null,
   "metadata": {},
   "outputs": [
    {
     "name": "stdout",
     "output_type": "stream",
     "text": [
      "Div() Mod()\n",
      "Mod() Div()\n",
      "Div() Mod()\n"
     ]
    },
    {
     "data": {
      "text/plain": [
       "\\frac{\\frac{8}{\\sqrt{6}} \\mod 5}{\\sqrt{2}}"
      ]
     },
     "execution_count": 35,
     "metadata": {},
     "output_type": "execute_result"
    }
   ],
   "source": [
    "a % b"
   ]
  },
  {
   "cell_type": "markdown",
   "metadata": {},
   "source": [
    "### Remainder and Multiplication make Dividend"
   ]
  },
  {
   "cell_type": "code",
   "execution_count": null,
   "metadata": {},
   "outputs": [
    {
     "name": "stdout",
     "output_type": "stream",
     "text": [
      "Mult() Div()\n"
     ]
    },
    {
     "data": {
      "text/plain": [
       "\\frac{4  \\sqrt{6}}{3}"
      ]
     },
     "execution_count": 36,
     "metadata": {},
     "output_type": "execute_result"
    }
   ],
   "source": [
    "a @ b"
   ]
  },
  {
   "cell_type": "markdown",
   "metadata": {},
   "source": [
    "## Exponentiation"
   ]
  },
  {
   "cell_type": "code",
   "execution_count": null,
   "metadata": {},
   "outputs": [
    {
     "name": "stdout",
     "output_type": "stream",
     "text": [
      "Div() Div()\n"
     ]
    },
    {
     "data": {
      "text/plain": [
       "\\frac{\\frac{8}{\\sqrt{6}^{5}}}{\\sqrt{2}}"
      ]
     },
     "execution_count": 37,
     "metadata": {},
     "output_type": "execute_result"
    }
   ],
   "source": [
    "a ** b"
   ]
  },
  {
   "cell_type": "markdown",
   "metadata": {},
   "source": [
    "# Algebra"
   ]
  },
  {
   "cell_type": "code",
   "execution_count": null,
   "metadata": {},
   "outputs": [
    {
     "name": "stdout",
     "output_type": "stream",
     "text": [
      "['Z', 'Z']\n",
      "['Z', 'Z']\n",
      "['R', 'S']\n",
      "['Z', 'Z']\n",
      "['R', 'S']\n",
      "['A', 'R']\n",
      "['Z', 'Z']\n"
     ]
    },
    {
     "data": {
      "text/plain": [
       "'v**2 + 6*v + 8'"
      ]
     },
     "execution_count": 38,
     "metadata": {},
     "output_type": "execute_result"
    }
   ],
   "source": [
    "x = RandUnit([\"x\", \"y\", \"a\", \"b\", \"n\", \"m\", \"u\", \"v\"])\n",
    "a = RandUnit(\"1\", \"Z\")\n",
    "b = RandUnit(\"1\", \"Z\")\n",
    "unit = \"({var})**2 + ({a} + {b})*({var}) + ({a})*({b})\".format(var=x, a=a, b=b)\n",
    "str(Eval(unit).eval())"
   ]
  }
 ],
 "metadata": {
  "kernelspec": {
   "display_name": ".venv",
   "language": "python",
   "name": "python3"
  },
  "language_info": {
   "codemirror_mode": {
    "name": "ipython",
    "version": 3
   },
   "file_extension": ".py",
   "mimetype": "text/x-python",
   "name": "python",
   "nbconvert_exporter": "python",
   "pygments_lexer": "ipython3",
   "version": "3.13.2"
  }
 },
 "nbformat": 4,
 "nbformat_minor": 2
}
