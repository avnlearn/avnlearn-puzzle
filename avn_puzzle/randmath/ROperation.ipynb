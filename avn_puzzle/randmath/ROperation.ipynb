{
 "cells": [
  {
   "cell_type": "code",
   "execution_count": 7,
   "metadata": {},
   "outputs": [],
   "source": [
    "from ROperation import RandOperation, Eval, TeX, radsimp\n"
   ]
  },
  {
   "cell_type": "code",
   "execution_count": 8,
   "metadata": {},
   "outputs": [
    {
     "name": "stdout",
     "output_type": "stream",
     "text": [
      "Mult() Div()\n"
     ]
    },
    {
     "data": {
      "text/plain": [
       "\\frac{2  \\sqrt{5}}{5}"
      ]
     },
     "execution_count": 8,
     "metadata": {},
     "output_type": "execute_result"
    }
   ],
   "source": [
    "unit = {\"unit\" : \"1/sqrt(1)\", \"eval_BinOp\" : False, \"prime\" : True}\n",
    "d = RandOperation(unit)\n",
    "d"
   ]
  },
  {
   "cell_type": "markdown",
   "metadata": {},
   "source": [
    "# Integer"
   ]
  },
  {
   "cell_type": "code",
   "execution_count": 9,
   "metadata": {},
   "outputs": [],
   "source": [
    "# unit = {\"unit\" : \"2\", \"name\" : \"Z\"}\n",
    "# unit = {\"unit\" : \"2\", \"name\" : \"Z\"}"
   ]
  },
  {
   "cell_type": "markdown",
   "metadata": {},
   "source": [
    "## Addition"
   ]
  },
  {
   "cell_type": "code",
   "execution_count": 10,
   "metadata": {},
   "outputs": [
    {
     "name": "stdout",
     "output_type": "stream",
     "text": [
      "\\frac{2}{\\sqrt{2}} + \\frac{7}{\\sqrt{5}} = sqrt(2) + 7*sqrt(5)/5\n"
     ]
    }
   ],
   "source": [
    "d = RandOperation(unit)\n",
    "d += unit\n",
    "print(TeX(d), \"=\", Eval(d))"
   ]
  },
  {
   "cell_type": "code",
   "execution_count": 11,
   "metadata": {},
   "outputs": [
    {
     "data": {
      "text/latex": [
       "$\\displaystyle \\sqrt{2} + \\frac{7 \\sqrt{5}}{5}$"
      ],
      "text/plain": [
       "sqrt(2) + 7*sqrt(5)/5"
      ]
     },
     "execution_count": 11,
     "metadata": {},
     "output_type": "execute_result"
    }
   ],
   "source": [
    "Eval(d).eval()"
   ]
  },
  {
   "cell_type": "code",
   "execution_count": 12,
   "metadata": {},
   "outputs": [
    {
     "ename": "NameError",
     "evalue": "name 'simplify' is not defined",
     "output_type": "error",
     "traceback": [
      "\u001b[31m---------------------------------------------------------------------------\u001b[39m",
      "\u001b[31mNameError\u001b[39m                                 Traceback (most recent call last)",
      "\u001b[36mCell\u001b[39m\u001b[36m \u001b[39m\u001b[32mIn[12]\u001b[39m\u001b[32m, line 1\u001b[39m\n\u001b[32m----> \u001b[39m\u001b[32m1\u001b[39m \u001b[43msimplify\u001b[49m(Eval(d).eval())\n",
      "\u001b[31mNameError\u001b[39m: name 'simplify' is not defined"
     ]
    }
   ],
   "source": [
    "simplify(Eval(d).eval())"
   ]
  },
  {
   "cell_type": "markdown",
   "metadata": {},
   "source": [
    "## Subtraction"
   ]
  },
  {
   "cell_type": "code",
   "execution_count": null,
   "metadata": {},
   "outputs": [
    {
     "name": "stdout",
     "output_type": "stream",
     "text": [
      "\\frac{2}{\\sqrt{7}} - \\frac{5}{\\sqrt{7}} = -3*sqrt(7)/7\n"
     ]
    }
   ],
   "source": [
    "d = RandOperation(unit)\n",
    "d -= unit\n",
    "print(TeX(d), \"=\", Eval(d))"
   ]
  },
  {
   "cell_type": "markdown",
   "metadata": {},
   "source": [
    "# Multiplication"
   ]
  },
  {
   "cell_type": "code",
   "execution_count": null,
   "metadata": {},
   "outputs": [
    {
     "name": "stdout",
     "output_type": "stream",
     "text": [
      "\\frac{5}{\\sqrt{7}} \\times \\frac{7}{\\sqrt{2}} = 5*sqrt(14)/2\n"
     ]
    }
   ],
   "source": [
    "d = RandOperation(unit)\n",
    "d *= unit\n",
    "print(TeX(d), \"=\", Eval(d))"
   ]
  },
  {
   "cell_type": "markdown",
   "metadata": {},
   "source": [
    "# Division"
   ]
  },
  {
   "cell_type": "code",
   "execution_count": null,
   "metadata": {},
   "outputs": [
    {
     "name": "stdout",
     "output_type": "stream",
     "text": [
      "\\frac{2}{\\sqrt{7}} \\div \\frac{2}{\\sqrt{3}} = sqrt(21)/21\n"
     ]
    }
   ],
   "source": [
    "d = RandOperation(unit)\n",
    "d /= unit\n",
    "print(TeX(d), \"=\", Eval(d))"
   ]
  },
  {
   "cell_type": "code",
   "execution_count": null,
   "metadata": {},
   "outputs": [
    {
     "name": "stdout",
     "output_type": "stream",
     "text": [
      "\\frac{7}{\\sqrt{7}} \\div \\frac{7}{\\sqrt{3}} = 0\n"
     ]
    }
   ],
   "source": [
    "d = RandOperation(unit)\n",
    "d //= unit\n",
    "print(TeX(d), \"=\", Eval(d))"
   ]
  },
  {
   "cell_type": "code",
   "execution_count": null,
   "metadata": {},
   "outputs": [
    {
     "name": "stdout",
     "output_type": "stream",
     "text": [
      "\\frac{3  \\sqrt{7}}{7} \\div \\frac{7}{\\sqrt{2}} = 3*sqrt(14)/98\n"
     ]
    }
   ],
   "source": [
    "d = RandOperation(unit)\n",
    "d <<= unit\n",
    "print(TeX(d), \"=\", Eval(d))"
   ]
  },
  {
   "cell_type": "markdown",
   "metadata": {},
   "source": [
    "# Fraction"
   ]
  },
  {
   "cell_type": "code",
   "execution_count": null,
   "metadata": {},
   "outputs": [],
   "source": [
    "unit = {\"unit\" : \"1/1\", \"name\" : \"Q+\"}"
   ]
  },
  {
   "cell_type": "markdown",
   "metadata": {},
   "source": [
    "## Addition"
   ]
  },
  {
   "cell_type": "code",
   "execution_count": null,
   "metadata": {},
   "outputs": [
    {
     "name": "stdout",
     "output_type": "stream",
     "text": [
      "\\frac{4}{3} + \\frac{4}{3} + \\frac{6}{5} = 58/15\n"
     ]
    }
   ],
   "source": [
    "d = RandOperation(unit)\n",
    "d += unit\n",
    "d += unit\n",
    "print(TeX(d), \"=\", Eval(d))"
   ]
  },
  {
   "cell_type": "markdown",
   "metadata": {},
   "source": [
    "## Subtraction"
   ]
  },
  {
   "cell_type": "code",
   "execution_count": null,
   "metadata": {},
   "outputs": [
    {
     "name": "stdout",
     "output_type": "stream",
     "text": [
      "\\frac{8}{3} - \\frac{6}{5} = 22/15\n"
     ]
    }
   ],
   "source": [
    "d = RandOperation(unit)\n",
    "d -= unit\n",
    "print(TeX(d), \"=\", Eval(d))"
   ]
  },
  {
   "cell_type": "markdown",
   "metadata": {},
   "source": [
    "# Multiplication"
   ]
  },
  {
   "cell_type": "code",
   "execution_count": null,
   "metadata": {},
   "outputs": [
    {
     "name": "stdout",
     "output_type": "stream",
     "text": [
      "\\frac{5}{2} \\times \\frac{8}{6} = 10/3\n"
     ]
    }
   ],
   "source": [
    "d = RandOperation(unit)\n",
    "d *= unit\n",
    "print(TeX(d), \"=\", Eval(d))"
   ]
  },
  {
   "cell_type": "markdown",
   "metadata": {},
   "source": [
    "# Division"
   ]
  },
  {
   "cell_type": "code",
   "execution_count": null,
   "metadata": {},
   "outputs": [
    {
     "name": "stdout",
     "output_type": "stream",
     "text": [
      "\\frac{2}{8} \\div \\frac{3}{5} = 5/12\n"
     ]
    }
   ],
   "source": [
    "d = RandOperation(unit)\n",
    "d /= unit\n",
    "print(TeX(d), \"=\", Eval(d))"
   ]
  },
  {
   "cell_type": "code",
   "execution_count": null,
   "metadata": {},
   "outputs": [
    {
     "name": "stdout",
     "output_type": "stream",
     "text": [
      "\\frac{8}{7} \\div \\frac{7}{2} = 0\n"
     ]
    }
   ],
   "source": [
    "d = RandOperation(unit)\n",
    "d //= unit\n",
    "print(TeX(d), \"=\", Eval(d))"
   ]
  },
  {
   "cell_type": "code",
   "execution_count": null,
   "metadata": {},
   "outputs": [
    {
     "name": "stdout",
     "output_type": "stream",
     "text": [
      "\\frac{7}{2} \\div \\frac{7}{3} = 3/2\n"
     ]
    }
   ],
   "source": [
    "d = RandOperation(unit)\n",
    "d <<= unit\n",
    "print(TeX(d), \"=\", Eval(d))"
   ]
  },
  {
   "cell_type": "markdown",
   "metadata": {},
   "source": [
    "# Rationalization"
   ]
  },
  {
   "cell_type": "code",
   "execution_count": null,
   "metadata": {},
   "outputs": [],
   "source": [
    "unit = {\"unit\" : \"(1 + sqrt(1))/(1 - sqrt(1))\", \"eval_BinOp\":False, \"prime\" : True}"
   ]
  },
  {
   "cell_type": "markdown",
   "metadata": {},
   "source": [
    "## Addition"
   ]
  },
  {
   "cell_type": "code",
   "execution_count": null,
   "metadata": {},
   "outputs": [
    {
     "name": "stdout",
     "output_type": "stream",
     "text": [
      "\\frac{7 + \\sqrt{3}}{5 - \\sqrt{3}} + \\frac{7 + \\sqrt{5}}{7 - \\sqrt{2}} + \\frac{7 + \\sqrt{5}}{5 - \\sqrt{7}} = (sqrt(5) + 7)/(7 - sqrt(2)) + (sqrt(3) + 7)/(5 - sqrt(3)) + (sqrt(5) + 7)/(5 - sqrt(7))\n"
     ]
    }
   ],
   "source": [
    "d = RandOperation(unit)\n",
    "d += unit\n",
    "d += unit\n",
    "print(TeX(d), \"=\", Eval(d))"
   ]
  },
  {
   "cell_type": "code",
   "execution_count": null,
   "metadata": {},
   "outputs": [
    {
     "data": {
      "text/latex": [
       "$\\displaystyle \\frac{\\sqrt{5} + 7}{7 - \\sqrt{2}} + \\frac{\\sqrt{3} + 7}{5 - \\sqrt{3}} + \\frac{\\sqrt{5} + 7}{5 - \\sqrt{7}}$"
      ],
      "text/plain": [
       "(sqrt(5) + 7)/(7 - sqrt(2)) + (sqrt(3) + 7)/(5 - sqrt(3)) + (sqrt(5) + 7)/(5 - sqrt(7))"
      ]
     },
     "execution_count": 474,
     "metadata": {},
     "output_type": "execute_result"
    }
   ],
   "source": [
    "Eval(d).eval()"
   ]
  },
  {
   "cell_type": "code",
   "execution_count": null,
   "metadata": {},
   "outputs": [
    {
     "data": {
      "text/latex": [
       "$\\displaystyle \\frac{\\sqrt{5} + 7}{7 - \\sqrt{2}} + \\frac{\\sqrt{3} + 7}{5 - \\sqrt{3}} + \\frac{\\sqrt{5} + 7}{5 - \\sqrt{7}}$"
      ],
      "text/plain": [
       "(sqrt(5) + 7)/(7 - sqrt(2)) + (sqrt(3) + 7)/(5 - sqrt(3)) + (sqrt(5) + 7)/(5 - sqrt(7))"
      ]
     },
     "execution_count": 475,
     "metadata": {},
     "output_type": "execute_result"
    }
   ],
   "source": [
    "Eval(d).eval()"
   ]
  },
  {
   "cell_type": "code",
   "execution_count": null,
   "metadata": {},
   "outputs": [],
   "source": [
    "from sympy import *"
   ]
  },
  {
   "cell_type": "code",
   "execution_count": null,
   "metadata": {},
   "outputs": [
    {
     "ename": "AttributeError",
     "evalue": "'Mul' object has no attribute 'latex'",
     "output_type": "error",
     "traceback": [
      "\u001b[0;31m---------------------------------------------------------------------------\u001b[0m",
      "\u001b[0;31mAttributeError\u001b[0m                            Traceback (most recent call last)",
      "\u001b[1;32m/mnt/Develop/eBooks/Scripts/Portables/lib/RandQuestion/RandMath/ROperation.ipynb Cell 36\u001b[0m line \u001b[0;36m3\n\u001b[1;32m      <a href='vscode-notebook-cell:/mnt/Develop/eBooks/Scripts/Portables/lib/RandQuestion/RandMath/ROperation.ipynb#X55sZmlsZQ%3D%3D?line=0'>1</a>\u001b[0m \u001b[39mmatch\u001b[39;00m Eval(d)\u001b[39m.\u001b[39meval():\n\u001b[1;32m      <a href='vscode-notebook-cell:/mnt/Develop/eBooks/Scripts/Portables/lib/RandQuestion/RandMath/ROperation.ipynb#X55sZmlsZQ%3D%3D?line=1'>2</a>\u001b[0m     \u001b[39mcase\u001b[39;00m Expr() \u001b[39mas\u001b[39;00m x:\n\u001b[0;32m----> <a href='vscode-notebook-cell:/mnt/Develop/eBooks/Scripts/Portables/lib/RandQuestion/RandMath/ROperation.ipynb#X55sZmlsZQ%3D%3D?line=2'>3</a>\u001b[0m         \u001b[39mprint\u001b[39m(x\u001b[39m.\u001b[39;49mradsimp()\u001b[39m.\u001b[39;49mlatex())\n\u001b[1;32m      <a href='vscode-notebook-cell:/mnt/Develop/eBooks/Scripts/Portables/lib/RandQuestion/RandMath/ROperation.ipynb#X55sZmlsZQ%3D%3D?line=3'>4</a>\u001b[0m     \u001b[39mcase\u001b[39;00m\u001b[39m \u001b[39m\u001b[39m_\u001b[39;00m \u001b[39mas\u001b[39;00m x:\n\u001b[1;32m      <a href='vscode-notebook-cell:/mnt/Develop/eBooks/Scripts/Portables/lib/RandQuestion/RandMath/ROperation.ipynb#X55sZmlsZQ%3D%3D?line=4'>5</a>\u001b[0m         \u001b[39mprint\u001b[39m(x)\n",
      "\u001b[0;31mAttributeError\u001b[0m: 'Mul' object has no attribute 'latex'"
     ]
    }
   ],
   "source": [
    "match Eval(d).eval():\n",
    "    case Expr() as x:\n",
    "        print(x.radsimp().latex())\n",
    "    case _ as x:\n",
    "        print(x)"
   ]
  },
  {
   "cell_type": "markdown",
   "metadata": {},
   "source": [
    "## Subtraction"
   ]
  },
  {
   "cell_type": "code",
   "execution_count": null,
   "metadata": {},
   "outputs": [
    {
     "name": "stdout",
     "output_type": "stream",
     "text": [
      "\\frac{7 + \\sqrt{5}}{5 - \\sqrt{2}} - \\frac{7 + \\sqrt{2}}{2 - \\sqrt{7}} = (sqrt(5) + 7)/(5 - sqrt(2)) - (sqrt(2) + 7)/(2 - sqrt(7))\n"
     ]
    }
   ],
   "source": [
    "d = RandOperation(unit)\n",
    "d -= unit\n",
    "print(TeX(d), \"=\", Eval(d))"
   ]
  },
  {
   "cell_type": "markdown",
   "metadata": {},
   "source": [
    "# Multiplication"
   ]
  },
  {
   "cell_type": "code",
   "execution_count": null,
   "metadata": {},
   "outputs": [
    {
     "name": "stdout",
     "output_type": "stream",
     "text": [
      "\\frac{2 + \\sqrt{7}}{7 - \\sqrt{3}} \\times \\frac{2 + \\sqrt{3}}{5 - \\sqrt{7}} = (2 + sqrt(7))*(sqrt(3) + 2)/((5 - sqrt(7))*(7 - sqrt(3)))\n"
     ]
    }
   ],
   "source": [
    "d = RandOperation(unit)\n",
    "d *= unit\n",
    "print(TeX(d), \"=\", Eval(d))"
   ]
  },
  {
   "cell_type": "markdown",
   "metadata": {},
   "source": [
    "# Division"
   ]
  },
  {
   "cell_type": "code",
   "execution_count": null,
   "metadata": {},
   "outputs": [
    {
     "name": "stdout",
     "output_type": "stream",
     "text": [
      "\\frac{2 + \\sqrt{7}}{7 - \\sqrt{3}} \\div \\frac{7 + \\sqrt{3}}{7 - \\sqrt{2}} = (2 + sqrt(7))/((7 - sqrt(2))*(7 - sqrt(3))*(sqrt(3) + 7))\n"
     ]
    }
   ],
   "source": [
    "d = RandOperation(unit)\n",
    "d /= unit\n",
    "print(TeX(d), \"=\", Eval(d))"
   ]
  },
  {
   "cell_type": "code",
   "execution_count": null,
   "metadata": {},
   "outputs": [
    {
     "ename": "LaTeXParsingError",
     "evalue": "I expected one of these: ')'\n(7 + sympy.sqrt(2)) / (7 - sympy.sqrt(5))\n~~~~~~~~~~^",
     "output_type": "error",
     "traceback": [
      "\u001b[0;31m---------------------------------------------------------------------------\u001b[0m",
      "\u001b[0;31mAttributeError\u001b[0m                            Traceback (most recent call last)",
      "File \u001b[0;32m/mnt/Develop/Applications/Scripts/Portables/lib/RandQuestion/RandMath/utils/sympy_utils.py:117\u001b[0m, in \u001b[0;36mSympy\u001b[0;34m(terms, transformations, evaluate, **kwargs)\u001b[0m\n\u001b[1;32m    110\u001b[0m         transformations \u001b[39m=\u001b[39m standard_transformations \u001b[39m+\u001b[39m (\n\u001b[1;32m    111\u001b[0m             implicit_application,\n\u001b[1;32m    112\u001b[0m             implicit_multiplication,\n\u001b[0;32m   (...)\u001b[0m\n\u001b[1;32m    115\u001b[0m             convert_xor,\n\u001b[1;32m    116\u001b[0m         )\n\u001b[0;32m--> 117\u001b[0m     \u001b[39mreturn\u001b[39;00m parse_expr(\n\u001b[1;32m    118\u001b[0m         terms, transformations\u001b[39m=\u001b[39;49mtransformations, evaluate\u001b[39m=\u001b[39;49mevaluate\n\u001b[1;32m    119\u001b[0m     )\n\u001b[1;32m    120\u001b[0m \u001b[39mexcept\u001b[39;00m \u001b[39mException\u001b[39;00m:\n",
      "File \u001b[0;32m/home/linuxbrew/.linuxbrew/lib/python3.12/site-packages/sympy/parsing/sympy_parser.py:1075\u001b[0m, in \u001b[0;36mparse_expr\u001b[0;34m(s, local_dict, transformations, global_dict, evaluate)\u001b[0m\n\u001b[1;32m   1074\u001b[0m \u001b[39mif\u001b[39;00m \u001b[39mnot\u001b[39;00m evaluate:\n\u001b[0;32m-> 1075\u001b[0m     code \u001b[39m=\u001b[39m \u001b[39mcompile\u001b[39m(evaluateFalse(code), \u001b[39m'\u001b[39m\u001b[39m<string>\u001b[39m\u001b[39m'\u001b[39m, \u001b[39m'\u001b[39m\u001b[39meval\u001b[39m\u001b[39m'\u001b[39m) \u001b[39m# type: ignore\u001b[39;00m\n\u001b[1;32m   1077\u001b[0m \u001b[39mtry\u001b[39;00m:\n",
      "File \u001b[0;32m/home/linuxbrew/.linuxbrew/lib/python3.12/site-packages/sympy/parsing/sympy_parser.py:1095\u001b[0m, in \u001b[0;36mevaluateFalse\u001b[0;34m(s)\u001b[0m\n\u001b[1;32m   1094\u001b[0m node \u001b[39m=\u001b[39m ast\u001b[39m.\u001b[39mparse(s)\n\u001b[0;32m-> 1095\u001b[0m transformed_node \u001b[39m=\u001b[39m EvaluateFalseTransformer()\u001b[39m.\u001b[39;49mvisit(node)\n\u001b[1;32m   1096\u001b[0m \u001b[39m# node is a Module, we want an Expression\u001b[39;00m\n",
      "File \u001b[0;32m/home/linuxbrew/.linuxbrew/Cellar/python@3.12/3.12.2_1/lib/python3.12/ast.py:407\u001b[0m, in \u001b[0;36mNodeVisitor.visit\u001b[0;34m(self, node)\u001b[0m\n\u001b[1;32m    406\u001b[0m visitor \u001b[39m=\u001b[39m \u001b[39mgetattr\u001b[39m(\u001b[39mself\u001b[39m, method, \u001b[39mself\u001b[39m\u001b[39m.\u001b[39mgeneric_visit)\n\u001b[0;32m--> 407\u001b[0m \u001b[39mreturn\u001b[39;00m visitor(node)\n",
      "File \u001b[0;32m/home/linuxbrew/.linuxbrew/Cellar/python@3.12/3.12.2_1/lib/python3.12/ast.py:483\u001b[0m, in \u001b[0;36mNodeTransformer.generic_visit\u001b[0;34m(self, node)\u001b[0m\n\u001b[1;32m    482\u001b[0m \u001b[39mif\u001b[39;00m \u001b[39misinstance\u001b[39m(value, AST):\n\u001b[0;32m--> 483\u001b[0m     value \u001b[39m=\u001b[39m \u001b[39mself\u001b[39;49m\u001b[39m.\u001b[39;49mvisit(value)\n\u001b[1;32m    484\u001b[0m     \u001b[39mif\u001b[39;00m value \u001b[39mis\u001b[39;00m \u001b[39mNone\u001b[39;00m:\n",
      "File \u001b[0;32m/home/linuxbrew/.linuxbrew/Cellar/python@3.12/3.12.2_1/lib/python3.12/ast.py:407\u001b[0m, in \u001b[0;36mNodeVisitor.visit\u001b[0;34m(self, node)\u001b[0m\n\u001b[1;32m    406\u001b[0m visitor \u001b[39m=\u001b[39m \u001b[39mgetattr\u001b[39m(\u001b[39mself\u001b[39m, method, \u001b[39mself\u001b[39m\u001b[39m.\u001b[39mgeneric_visit)\n\u001b[0;32m--> 407\u001b[0m \u001b[39mreturn\u001b[39;00m visitor(node)\n",
      "File \u001b[0;32m/home/linuxbrew/.linuxbrew/Cellar/python@3.12/3.12.2_1/lib/python3.12/ast.py:492\u001b[0m, in \u001b[0;36mNodeTransformer.generic_visit\u001b[0;34m(self, node)\u001b[0m\n\u001b[1;32m    491\u001b[0m \u001b[39melif\u001b[39;00m \u001b[39misinstance\u001b[39m(old_value, AST):\n\u001b[0;32m--> 492\u001b[0m     new_node \u001b[39m=\u001b[39m \u001b[39mself\u001b[39;49m\u001b[39m.\u001b[39;49mvisit(old_value)\n\u001b[1;32m    493\u001b[0m     \u001b[39mif\u001b[39;00m new_node \u001b[39mis\u001b[39;00m \u001b[39mNone\u001b[39;00m:\n",
      "File \u001b[0;32m/home/linuxbrew/.linuxbrew/Cellar/python@3.12/3.12.2_1/lib/python3.12/ast.py:407\u001b[0m, in \u001b[0;36mNodeVisitor.visit\u001b[0;34m(self, node)\u001b[0m\n\u001b[1;32m    406\u001b[0m visitor \u001b[39m=\u001b[39m \u001b[39mgetattr\u001b[39m(\u001b[39mself\u001b[39m, method, \u001b[39mself\u001b[39m\u001b[39m.\u001b[39mgeneric_visit)\n\u001b[0;32m--> 407\u001b[0m \u001b[39mreturn\u001b[39;00m visitor(node)\n",
      "File \u001b[0;32m/home/linuxbrew/.linuxbrew/lib/python3.12/site-packages/sympy/parsing/sympy_parser.py:1163\u001b[0m, in \u001b[0;36mEvaluateFalseTransformer.visit_BinOp\u001b[0;34m(self, node)\u001b[0m\n\u001b[1;32m   1162\u001b[0m sympy_class \u001b[39m=\u001b[39m \u001b[39mself\u001b[39m\u001b[39m.\u001b[39moperators[node\u001b[39m.\u001b[39mop\u001b[39m.\u001b[39m\u001b[39m__class__\u001b[39m]\n\u001b[0;32m-> 1163\u001b[0m right \u001b[39m=\u001b[39m \u001b[39mself\u001b[39;49m\u001b[39m.\u001b[39;49mvisit(node\u001b[39m.\u001b[39;49mright)\n\u001b[1;32m   1164\u001b[0m left \u001b[39m=\u001b[39m \u001b[39mself\u001b[39m\u001b[39m.\u001b[39mvisit(node\u001b[39m.\u001b[39mleft)\n",
      "File \u001b[0;32m/home/linuxbrew/.linuxbrew/Cellar/python@3.12/3.12.2_1/lib/python3.12/ast.py:407\u001b[0m, in \u001b[0;36mNodeVisitor.visit\u001b[0;34m(self, node)\u001b[0m\n\u001b[1;32m    406\u001b[0m visitor \u001b[39m=\u001b[39m \u001b[39mgetattr\u001b[39m(\u001b[39mself\u001b[39m, method, \u001b[39mself\u001b[39m\u001b[39m.\u001b[39mgeneric_visit)\n\u001b[0;32m--> 407\u001b[0m \u001b[39mreturn\u001b[39;00m visitor(node)\n",
      "File \u001b[0;32m/home/linuxbrew/.linuxbrew/lib/python3.12/site-packages/sympy/parsing/sympy_parser.py:1163\u001b[0m, in \u001b[0;36mEvaluateFalseTransformer.visit_BinOp\u001b[0;34m(self, node)\u001b[0m\n\u001b[1;32m   1162\u001b[0m sympy_class \u001b[39m=\u001b[39m \u001b[39mself\u001b[39m\u001b[39m.\u001b[39moperators[node\u001b[39m.\u001b[39mop\u001b[39m.\u001b[39m\u001b[39m__class__\u001b[39m]\n\u001b[0;32m-> 1163\u001b[0m right \u001b[39m=\u001b[39m \u001b[39mself\u001b[39;49m\u001b[39m.\u001b[39;49mvisit(node\u001b[39m.\u001b[39;49mright)\n\u001b[1;32m   1164\u001b[0m left \u001b[39m=\u001b[39m \u001b[39mself\u001b[39m\u001b[39m.\u001b[39mvisit(node\u001b[39m.\u001b[39mleft)\n",
      "File \u001b[0;32m/home/linuxbrew/.linuxbrew/Cellar/python@3.12/3.12.2_1/lib/python3.12/ast.py:407\u001b[0m, in \u001b[0;36mNodeVisitor.visit\u001b[0;34m(self, node)\u001b[0m\n\u001b[1;32m    406\u001b[0m visitor \u001b[39m=\u001b[39m \u001b[39mgetattr\u001b[39m(\u001b[39mself\u001b[39m, method, \u001b[39mself\u001b[39m\u001b[39m.\u001b[39mgeneric_visit)\n\u001b[0;32m--> 407\u001b[0m \u001b[39mreturn\u001b[39;00m visitor(node)\n",
      "File \u001b[0;32m/home/linuxbrew/.linuxbrew/lib/python3.12/site-packages/sympy/parsing/sympy_parser.py:1207\u001b[0m, in \u001b[0;36mEvaluateFalseTransformer.visit_BinOp\u001b[0;34m(self, node)\u001b[0m\n\u001b[1;32m   1205\u001b[0m \u001b[39mif\u001b[39;00m sympy_class \u001b[39min\u001b[39;00m (\u001b[39m'\u001b[39m\u001b[39mAdd\u001b[39m\u001b[39m'\u001b[39m, \u001b[39m'\u001b[39m\u001b[39mMul\u001b[39m\u001b[39m'\u001b[39m):\n\u001b[1;32m   1206\u001b[0m     \u001b[39m# Denest Add or Mul as appropriate\u001b[39;00m\n\u001b[0;32m-> 1207\u001b[0m     new_node\u001b[39m.\u001b[39margs \u001b[39m=\u001b[39m \u001b[39mself\u001b[39;49m\u001b[39m.\u001b[39;49mflatten(new_node\u001b[39m.\u001b[39;49margs, sympy_class)\n\u001b[1;32m   1209\u001b[0m \u001b[39mreturn\u001b[39;00m new_node\n",
      "File \u001b[0;32m/home/linuxbrew/.linuxbrew/lib/python3.12/site-packages/sympy/parsing/sympy_parser.py:1152\u001b[0m, in \u001b[0;36mEvaluateFalseTransformer.flatten\u001b[0;34m(self, args, func)\u001b[0m\n\u001b[1;32m   1151\u001b[0m     arg_func \u001b[39m=\u001b[39m arg_func\u001b[39m.\u001b[39mfunc\n\u001b[0;32m-> 1152\u001b[0m \u001b[39mif\u001b[39;00m arg_func\u001b[39m.\u001b[39;49mid \u001b[39m==\u001b[39m func:\n\u001b[1;32m   1153\u001b[0m     result\u001b[39m.\u001b[39mextend(\u001b[39mself\u001b[39m\u001b[39m.\u001b[39mflatten(arg\u001b[39m.\u001b[39margs, func))\n",
      "\u001b[0;31mAttributeError\u001b[0m: 'Attribute' object has no attribute 'id'",
      "\nDuring handling of the above exception, another exception occurred:\n",
      "\u001b[0;31mInputMismatchException\u001b[0m                    Traceback (most recent call last)",
      "File \u001b[0;32m/home/linuxbrew/.linuxbrew/lib/python3.12/site-packages/sympy/parsing/latex/_antlr/latexparser.py:1831\u001b[0m, in \u001b[0;36mLaTeXParser.group\u001b[0;34m(self)\u001b[0m\n\u001b[1;32m   1830\u001b[0m \u001b[39mself\u001b[39m\u001b[39m.\u001b[39mstate \u001b[39m=\u001b[39m \u001b[39m253\u001b[39m\n\u001b[0;32m-> 1831\u001b[0m \u001b[39mself\u001b[39;49m\u001b[39m.\u001b[39;49mmatch(LaTeXParser\u001b[39m.\u001b[39;49mR_PAREN)\n\u001b[1;32m   1832\u001b[0m \u001b[39mpass\u001b[39;00m\n",
      "File \u001b[0;32m/home/linuxbrew/.linuxbrew/lib/python3.12/site-packages/antlr4/Parser.py:126\u001b[0m, in \u001b[0;36mParser.match\u001b[0;34m(self, ttype)\u001b[0m\n\u001b[1;32m    125\u001b[0m \u001b[39melse\u001b[39;00m:\n\u001b[0;32m--> 126\u001b[0m     t \u001b[39m=\u001b[39m \u001b[39mself\u001b[39;49m\u001b[39m.\u001b[39;49m_errHandler\u001b[39m.\u001b[39;49mrecoverInline(\u001b[39mself\u001b[39;49m)\n\u001b[1;32m    127\u001b[0m     \u001b[39mif\u001b[39;00m \u001b[39mself\u001b[39m\u001b[39m.\u001b[39mbuildParseTrees \u001b[39mand\u001b[39;00m t\u001b[39m.\u001b[39mtokenIndex\u001b[39m==\u001b[39m\u001b[39m-\u001b[39m\u001b[39m1\u001b[39m:\n\u001b[1;32m    128\u001b[0m         \u001b[39m# we must have conjured up a new token during single token insertion\u001b[39;00m\n\u001b[1;32m    129\u001b[0m         \u001b[39m# if it's not the current symbol\u001b[39;00m\n",
      "File \u001b[0;32m/home/linuxbrew/.linuxbrew/lib/python3.12/site-packages/antlr4/error/ErrorStrategy.py:407\u001b[0m, in \u001b[0;36mDefaultErrorStrategy.recoverInline\u001b[0;34m(self, recognizer)\u001b[0m\n\u001b[1;32m    406\u001b[0m \u001b[39m# even that didn't work; must throw the exception\u001b[39;00m\n\u001b[0;32m--> 407\u001b[0m \u001b[39mraise\u001b[39;00m InputMismatchException(recognizer)\n",
      "\u001b[0;31mInputMismatchException\u001b[0m: None",
      "\nDuring handling of the above exception, another exception occurred:\n",
      "\u001b[0;31mLaTeXParsingError\u001b[0m                         Traceback (most recent call last)",
      "\u001b[1;32m/mnt/Develop/eBooks/Scripts/Portables/lib/RandQuestion/RandMath/ROperation.ipynb Cell 43\u001b[0m line \u001b[0;36m2\n\u001b[1;32m      <a href='vscode-notebook-cell:/mnt/Develop/eBooks/Scripts/Portables/lib/RandQuestion/RandMath/ROperation.ipynb#X53sZmlsZQ%3D%3D?line=0'>1</a>\u001b[0m d \u001b[39m=\u001b[39m RandOperation(unit)\n\u001b[0;32m----> <a href='vscode-notebook-cell:/mnt/Develop/eBooks/Scripts/Portables/lib/RandQuestion/RandMath/ROperation.ipynb#X53sZmlsZQ%3D%3D?line=1'>2</a>\u001b[0m d \u001b[39m/\u001b[39;49m\u001b[39m/\u001b[39;49m\u001b[39m=\u001b[39;49m unit\n\u001b[1;32m      <a href='vscode-notebook-cell:/mnt/Develop/eBooks/Scripts/Portables/lib/RandQuestion/RandMath/ROperation.ipynb#X53sZmlsZQ%3D%3D?line=2'>3</a>\u001b[0m \u001b[39mprint\u001b[39m(TeX(d), \u001b[39m\"\u001b[39m\u001b[39m=\u001b[39m\u001b[39m\"\u001b[39m, Eval(d))\n",
      "File \u001b[0;32m/mnt/Develop/Applications/Scripts/Portables/lib/RandQuestion/RandMath/ROperation.py:522\u001b[0m, in \u001b[0;36mRandOperation.__ifloordiv__\u001b[0;34m(self, x)\u001b[0m\n\u001b[1;32m    516\u001b[0m \u001b[39mdef\u001b[39;00m \u001b[39m__ifloordiv__\u001b[39m(\u001b[39mself\u001b[39m, x):\n\u001b[1;32m    517\u001b[0m \u001b[39m    \u001b[39m\u001b[39m\"\"\"\u001b[39;00m\n\u001b[1;32m    518\u001b[0m \u001b[39m    Division (//)\u001b[39;00m\n\u001b[1;32m    519\u001b[0m \u001b[39m    ============\u001b[39;00m\n\u001b[1;32m    520\u001b[0m \u001b[39m    x //= 2\u001b[39;00m\n\u001b[1;32m    521\u001b[0m \u001b[39m    \"\"\"\u001b[39;00m\n\u001b[0;32m--> 522\u001b[0m     \u001b[39mreturn\u001b[39;00m \u001b[39mself\u001b[39;49m\u001b[39m.\u001b[39;49m\u001b[39m__floordiv__\u001b[39;49m(x)\n",
      "File \u001b[0;32m/mnt/Develop/Applications/Scripts/Portables/lib/RandQuestion/RandMath/ROperation.py:514\u001b[0m, in \u001b[0;36mRandOperation.__floordiv__\u001b[0;34m(self, x)\u001b[0m\n\u001b[1;32m    508\u001b[0m \u001b[39mdef\u001b[39;00m \u001b[39m__floordiv__\u001b[39m(\u001b[39mself\u001b[39m, x):\n\u001b[1;32m    509\u001b[0m \u001b[39m    \u001b[39m\u001b[39m\"\"\"\u001b[39;00m\n\u001b[1;32m    510\u001b[0m \u001b[39m    Division (//)\u001b[39;00m\n\u001b[1;32m    511\u001b[0m \u001b[39m    ============\u001b[39;00m\n\u001b[1;32m    512\u001b[0m \u001b[39m    x = x // 2\u001b[39;00m\n\u001b[1;32m    513\u001b[0m \u001b[39m    \"\"\"\u001b[39;00m\n\u001b[0;32m--> 514\u001b[0m     \u001b[39mreturn\u001b[39;00m \u001b[39mself\u001b[39;49m\u001b[39m.\u001b[39;49mROperation(x, \u001b[39m\"\u001b[39;49m\u001b[39m//\u001b[39;49m\u001b[39m\"\u001b[39;49m)\n",
      "File \u001b[0;32m/mnt/Develop/Applications/Scripts/Portables/lib/RandQuestion/RandMath/ROperation.py:332\u001b[0m, in \u001b[0;36mRandOperation.ROperation\u001b[0;34m(self, y, operator, reflected, **kwargs)\u001b[0m\n\u001b[1;32m    329\u001b[0m     reflected \u001b[39m=\u001b[39m random\u001b[39m.\u001b[39mchoice([\u001b[39mTrue\u001b[39;00m, \u001b[39mFalse\u001b[39;00m])\n\u001b[1;32m    331\u001b[0m \u001b[39mif\u001b[39;00m operator \u001b[39min\u001b[39;00m operator_lst[\u001b[39m\"\u001b[39m\u001b[39mall\u001b[39m\u001b[39m\"\u001b[39m]:\n\u001b[0;32m--> 332\u001b[0m     \u001b[39mreturn\u001b[39;00m \u001b[39mself\u001b[39;49m\u001b[39m.\u001b[39;49mOperation(y, operator, reflected, bracket\u001b[39m=\u001b[39;49mbracket, \u001b[39m*\u001b[39;49m\u001b[39m*\u001b[39;49mkwargs)\n",
      "File \u001b[0;32m/mnt/Develop/Applications/Scripts/Portables/lib/RandQuestion/RandMath/ROperation.py:283\u001b[0m, in \u001b[0;36mRandOperation.Operation\u001b[0;34m(self, y, operator, reflected, **kwargs)\u001b[0m\n\u001b[1;32m    281\u001b[0m         y \u001b[39m=\u001b[39m [y]\n\u001b[1;32m    282\u001b[0m \u001b[39melse\u001b[39;00m:\n\u001b[0;32m--> 283\u001b[0m     \u001b[39mmatch\u001b[39;00m Operator_type(y):\n\u001b[1;32m    284\u001b[0m         \u001b[39mcase\u001b[39;00m \u001b[39m\"\u001b[39m\u001b[39m+\u001b[39m\u001b[39m\"\u001b[39m \u001b[39m|\u001b[39m \u001b[39m\"\u001b[39m\u001b[39m-\u001b[39m\u001b[39m\"\u001b[39m \u001b[39m|\u001b[39m \u001b[39m\"\u001b[39m\u001b[39m*\u001b[39m\u001b[39m\"\u001b[39m \u001b[39m|\u001b[39m \u001b[39m\"\u001b[39m\u001b[39m**\u001b[39m\u001b[39m\"\u001b[39m \u001b[39mif\u001b[39;00m precedence_arithmetic(y) \u001b[39mnot\u001b[39;00m \u001b[39min\u001b[39;00m (\n\u001b[1;32m    285\u001b[0m             \u001b[39m0\u001b[39m,\n\u001b[1;32m    286\u001b[0m             \u001b[39m-\u001b[39m\u001b[39m1\u001b[39m,\n\u001b[1;32m    287\u001b[0m         ):\n\u001b[1;32m    288\u001b[0m             y \u001b[39m=\u001b[39m [[y]]\n",
      "File \u001b[0;32m/mnt/Develop/Applications/Scripts/Portables/lib/RandQuestion/RandMath/utils/sympy_utils.py:37\u001b[0m, in \u001b[0;36mOperator_type\u001b[0;34m(num)\u001b[0m\n\u001b[1;32m     35\u001b[0m         \u001b[39mmatch\u001b[39;00m \u001b[39mtype\u001b[39m(num)\u001b[39m.\u001b[39m\u001b[39m__name__\u001b[39m:\n\u001b[1;32m     36\u001b[0m             \u001b[39mcase\u001b[39;00m \u001b[39m\"\u001b[39m\u001b[39mRandUnit\u001b[39m\u001b[39m\"\u001b[39m:\n\u001b[0;32m---> 37\u001b[0m                 op \u001b[39m=\u001b[39m Operator_type(\u001b[39mstr\u001b[39;49m(num))\n\u001b[1;32m     38\u001b[0m \u001b[39mreturn\u001b[39;00m op\n",
      "File \u001b[0;32m/mnt/Develop/Applications/Scripts/Portables/lib/RandQuestion/RandMath/utils/sympy_utils.py:33\u001b[0m, in \u001b[0;36mOperator_type\u001b[0;34m(num)\u001b[0m\n\u001b[1;32m     31\u001b[0m             op \u001b[39m=\u001b[39m \u001b[39m\"\u001b[39m\u001b[39m**\u001b[39m\u001b[39m\"\u001b[39m\n\u001b[1;32m     32\u001b[0m \u001b[39mcase\u001b[39;00m \u001b[39mstr\u001b[39m():\n\u001b[0;32m---> 33\u001b[0m     op \u001b[39m=\u001b[39m Operator_type(Sympy(num))\n\u001b[1;32m     34\u001b[0m \u001b[39mcase\u001b[39;00m\u001b[39m \u001b[39m\u001b[39m_\u001b[39;00m:\n\u001b[1;32m     35\u001b[0m     \u001b[39mmatch\u001b[39;00m \u001b[39mtype\u001b[39m(num)\u001b[39m.\u001b[39m\u001b[39m__name__\u001b[39m:\n",
      "File \u001b[0;32m/mnt/Develop/Applications/Scripts/Portables/lib/RandQuestion/RandMath/utils/sympy_utils.py:121\u001b[0m, in \u001b[0;36mSympy\u001b[0;34m(terms, transformations, evaluate, **kwargs)\u001b[0m\n\u001b[1;32m    117\u001b[0m     \u001b[39mreturn\u001b[39;00m parse_expr(\n\u001b[1;32m    118\u001b[0m         terms, transformations\u001b[39m=\u001b[39mtransformations, evaluate\u001b[39m=\u001b[39mevaluate\n\u001b[1;32m    119\u001b[0m     )\n\u001b[1;32m    120\u001b[0m \u001b[39mexcept\u001b[39;00m \u001b[39mException\u001b[39;00m:\n\u001b[0;32m--> 121\u001b[0m     \u001b[39mreturn\u001b[39;00m parse_latex(terms)\n",
      "File \u001b[0;32m/home/linuxbrew/.linuxbrew/lib/python3.12/site-packages/sympy/parsing/latex/__init__.py:35\u001b[0m, in \u001b[0;36mparse_latex\u001b[0;34m(s)\u001b[0m\n\u001b[1;32m     30\u001b[0m _latex \u001b[39m=\u001b[39m import_module(\n\u001b[1;32m     31\u001b[0m     \u001b[39m'\u001b[39m\u001b[39msympy.parsing.latex._parse_latex_antlr\u001b[39m\u001b[39m'\u001b[39m,\n\u001b[1;32m     32\u001b[0m     import_kwargs\u001b[39m=\u001b[39m{\u001b[39m'\u001b[39m\u001b[39mfromlist\u001b[39m\u001b[39m'\u001b[39m: [\u001b[39m'\u001b[39m\u001b[39mX\u001b[39m\u001b[39m'\u001b[39m]})\n\u001b[1;32m     34\u001b[0m \u001b[39mif\u001b[39;00m _latex \u001b[39mis\u001b[39;00m \u001b[39mnot\u001b[39;00m \u001b[39mNone\u001b[39;00m:\n\u001b[0;32m---> 35\u001b[0m     \u001b[39mreturn\u001b[39;00m _latex\u001b[39m.\u001b[39;49mparse_latex(s)\n",
      "File \u001b[0;32m/home/linuxbrew/.linuxbrew/lib/python3.12/site-packages/sympy/parsing/latex/_parse_latex_antlr.py:84\u001b[0m, in \u001b[0;36mparse_latex\u001b[0;34m(sympy)\u001b[0m\n\u001b[1;32m     81\u001b[0m parser\u001b[39m.\u001b[39mremoveErrorListeners()\n\u001b[1;32m     82\u001b[0m parser\u001b[39m.\u001b[39maddErrorListener(matherror)\n\u001b[0;32m---> 84\u001b[0m relation \u001b[39m=\u001b[39m parser\u001b[39m.\u001b[39;49mmath()\u001b[39m.\u001b[39mrelation()\n\u001b[1;32m     85\u001b[0m expr \u001b[39m=\u001b[39m convert_relation(relation)\n\u001b[1;32m     87\u001b[0m \u001b[39mreturn\u001b[39;00m expr\n",
      "File \u001b[0;32m/home/linuxbrew/.linuxbrew/lib/python3.12/site-packages/sympy/parsing/latex/_antlr/latexparser.py:442\u001b[0m, in \u001b[0;36mLaTeXParser.math\u001b[0;34m(self)\u001b[0m\n\u001b[1;32m    440\u001b[0m     \u001b[39mself\u001b[39m\u001b[39m.\u001b[39menterOuterAlt(localctx, \u001b[39m1\u001b[39m)\n\u001b[1;32m    441\u001b[0m     \u001b[39mself\u001b[39m\u001b[39m.\u001b[39mstate \u001b[39m=\u001b[39m \u001b[39m82\u001b[39m\n\u001b[0;32m--> 442\u001b[0m     \u001b[39mself\u001b[39;49m\u001b[39m.\u001b[39;49mrelation(\u001b[39m0\u001b[39;49m)\n\u001b[1;32m    443\u001b[0m \u001b[39mexcept\u001b[39;00m RecognitionException \u001b[39mas\u001b[39;00m re:\n\u001b[1;32m    444\u001b[0m     localctx\u001b[39m.\u001b[39mexception \u001b[39m=\u001b[39m re\n",
      "File \u001b[0;32m/home/linuxbrew/.linuxbrew/lib/python3.12/site-packages/sympy/parsing/latex/_antlr/latexparser.py:504\u001b[0m, in \u001b[0;36mLaTeXParser.relation\u001b[0;34m(self, _p)\u001b[0m\n\u001b[1;32m    502\u001b[0m \u001b[39mself\u001b[39m\u001b[39m.\u001b[39menterOuterAlt(localctx, \u001b[39m1\u001b[39m)\n\u001b[1;32m    503\u001b[0m \u001b[39mself\u001b[39m\u001b[39m.\u001b[39mstate \u001b[39m=\u001b[39m \u001b[39m85\u001b[39m\n\u001b[0;32m--> 504\u001b[0m \u001b[39mself\u001b[39;49m\u001b[39m.\u001b[39;49mexpr()\n\u001b[1;32m    505\u001b[0m \u001b[39mself\u001b[39m\u001b[39m.\u001b[39m_ctx\u001b[39m.\u001b[39mstop \u001b[39m=\u001b[39m \u001b[39mself\u001b[39m\u001b[39m.\u001b[39m_input\u001b[39m.\u001b[39mLT(\u001b[39m-\u001b[39m\u001b[39m1\u001b[39m)\n\u001b[1;32m    506\u001b[0m \u001b[39mself\u001b[39m\u001b[39m.\u001b[39mstate \u001b[39m=\u001b[39m \u001b[39m92\u001b[39m\n",
      "File \u001b[0;32m/home/linuxbrew/.linuxbrew/lib/python3.12/site-packages/sympy/parsing/latex/_antlr/latexparser.py:610\u001b[0m, in \u001b[0;36mLaTeXParser.expr\u001b[0;34m(self)\u001b[0m\n\u001b[1;32m    608\u001b[0m     \u001b[39mself\u001b[39m\u001b[39m.\u001b[39menterOuterAlt(localctx, \u001b[39m1\u001b[39m)\n\u001b[1;32m    609\u001b[0m     \u001b[39mself\u001b[39m\u001b[39m.\u001b[39mstate \u001b[39m=\u001b[39m \u001b[39m99\u001b[39m\n\u001b[0;32m--> 610\u001b[0m     \u001b[39mself\u001b[39;49m\u001b[39m.\u001b[39;49madditive(\u001b[39m0\u001b[39;49m)\n\u001b[1;32m    611\u001b[0m \u001b[39mexcept\u001b[39;00m RecognitionException \u001b[39mas\u001b[39;00m re:\n\u001b[1;32m    612\u001b[0m     localctx\u001b[39m.\u001b[39mexception \u001b[39m=\u001b[39m re\n",
      "File \u001b[0;32m/home/linuxbrew/.linuxbrew/lib/python3.12/site-packages/sympy/parsing/latex/_antlr/latexparser.py:660\u001b[0m, in \u001b[0;36mLaTeXParser.additive\u001b[0;34m(self, _p)\u001b[0m\n\u001b[1;32m    658\u001b[0m \u001b[39mself\u001b[39m\u001b[39m.\u001b[39menterOuterAlt(localctx, \u001b[39m1\u001b[39m)\n\u001b[1;32m    659\u001b[0m \u001b[39mself\u001b[39m\u001b[39m.\u001b[39mstate \u001b[39m=\u001b[39m \u001b[39m102\u001b[39m\n\u001b[0;32m--> 660\u001b[0m \u001b[39mself\u001b[39;49m\u001b[39m.\u001b[39;49mmp(\u001b[39m0\u001b[39;49m)\n\u001b[1;32m    661\u001b[0m \u001b[39mself\u001b[39m\u001b[39m.\u001b[39m_ctx\u001b[39m.\u001b[39mstop \u001b[39m=\u001b[39m \u001b[39mself\u001b[39m\u001b[39m.\u001b[39m_input\u001b[39m.\u001b[39mLT(\u001b[39m-\u001b[39m\u001b[39m1\u001b[39m)\n\u001b[1;32m    662\u001b[0m \u001b[39mself\u001b[39m\u001b[39m.\u001b[39mstate \u001b[39m=\u001b[39m \u001b[39m109\u001b[39m\n",
      "File \u001b[0;32m/home/linuxbrew/.linuxbrew/lib/python3.12/site-packages/sympy/parsing/latex/_antlr/latexparser.py:750\u001b[0m, in \u001b[0;36mLaTeXParser.mp\u001b[0;34m(self, _p)\u001b[0m\n\u001b[1;32m    748\u001b[0m \u001b[39mself\u001b[39m\u001b[39m.\u001b[39menterOuterAlt(localctx, \u001b[39m1\u001b[39m)\n\u001b[1;32m    749\u001b[0m \u001b[39mself\u001b[39m\u001b[39m.\u001b[39mstate \u001b[39m=\u001b[39m \u001b[39m113\u001b[39m\n\u001b[0;32m--> 750\u001b[0m \u001b[39mself\u001b[39;49m\u001b[39m.\u001b[39;49munary()\n\u001b[1;32m    751\u001b[0m \u001b[39mself\u001b[39m\u001b[39m.\u001b[39m_ctx\u001b[39m.\u001b[39mstop \u001b[39m=\u001b[39m \u001b[39mself\u001b[39m\u001b[39m.\u001b[39m_input\u001b[39m.\u001b[39mLT(\u001b[39m-\u001b[39m\u001b[39m1\u001b[39m)\n\u001b[1;32m    752\u001b[0m \u001b[39mself\u001b[39m\u001b[39m.\u001b[39mstate \u001b[39m=\u001b[39m \u001b[39m120\u001b[39m\n",
      "File \u001b[0;32m/home/linuxbrew/.linuxbrew/lib/python3.12/site-packages/sympy/parsing/latex/_antlr/latexparser.py:937\u001b[0m, in \u001b[0;36mLaTeXParser.unary\u001b[0;34m(self)\u001b[0m\n\u001b[1;32m    935\u001b[0m \u001b[39mif\u001b[39;00m _alt \u001b[39m==\u001b[39m \u001b[39m1\u001b[39m:\n\u001b[1;32m    936\u001b[0m     \u001b[39mself\u001b[39m\u001b[39m.\u001b[39mstate \u001b[39m=\u001b[39m \u001b[39m136\u001b[39m\n\u001b[0;32m--> 937\u001b[0m     \u001b[39mself\u001b[39;49m\u001b[39m.\u001b[39;49mpostfix()\n\u001b[1;32m    939\u001b[0m \u001b[39melse\u001b[39;00m:\n\u001b[1;32m    940\u001b[0m     \u001b[39mraise\u001b[39;00m NoViableAltException(\u001b[39mself\u001b[39m)\n",
      "File \u001b[0;32m/home/linuxbrew/.linuxbrew/lib/python3.12/site-packages/sympy/parsing/latex/_antlr/latexparser.py:1072\u001b[0m, in \u001b[0;36mLaTeXParser.postfix\u001b[0;34m(self)\u001b[0m\n\u001b[1;32m   1070\u001b[0m \u001b[39mself\u001b[39m\u001b[39m.\u001b[39menterOuterAlt(localctx, \u001b[39m1\u001b[39m)\n\u001b[1;32m   1071\u001b[0m \u001b[39mself\u001b[39m\u001b[39m.\u001b[39mstate \u001b[39m=\u001b[39m \u001b[39m154\u001b[39m\n\u001b[0;32m-> 1072\u001b[0m \u001b[39mself\u001b[39;49m\u001b[39m.\u001b[39;49mexp(\u001b[39m0\u001b[39;49m)\n\u001b[1;32m   1073\u001b[0m \u001b[39mself\u001b[39m\u001b[39m.\u001b[39mstate \u001b[39m=\u001b[39m \u001b[39m158\u001b[39m\n\u001b[1;32m   1074\u001b[0m \u001b[39mself\u001b[39m\u001b[39m.\u001b[39m_errHandler\u001b[39m.\u001b[39msync(\u001b[39mself\u001b[39m)\n",
      "File \u001b[0;32m/home/linuxbrew/.linuxbrew/lib/python3.12/site-packages/sympy/parsing/latex/_antlr/latexparser.py:1438\u001b[0m, in \u001b[0;36mLaTeXParser.exp\u001b[0;34m(self, _p)\u001b[0m\n\u001b[1;32m   1436\u001b[0m \u001b[39mself\u001b[39m\u001b[39m.\u001b[39menterOuterAlt(localctx, \u001b[39m1\u001b[39m)\n\u001b[1;32m   1437\u001b[0m \u001b[39mself\u001b[39m\u001b[39m.\u001b[39mstate \u001b[39m=\u001b[39m \u001b[39m197\u001b[39m\n\u001b[0;32m-> 1438\u001b[0m \u001b[39mself\u001b[39;49m\u001b[39m.\u001b[39;49mcomp()\n\u001b[1;32m   1439\u001b[0m \u001b[39mself\u001b[39m\u001b[39m.\u001b[39m_ctx\u001b[39m.\u001b[39mstop \u001b[39m=\u001b[39m \u001b[39mself\u001b[39m\u001b[39m.\u001b[39m_input\u001b[39m.\u001b[39mLT(\u001b[39m-\u001b[39m\u001b[39m1\u001b[39m)\n\u001b[1;32m   1440\u001b[0m \u001b[39mself\u001b[39m\u001b[39m.\u001b[39mstate \u001b[39m=\u001b[39m \u001b[39m213\u001b[39m\n",
      "File \u001b[0;32m/home/linuxbrew/.linuxbrew/lib/python3.12/site-packages/sympy/parsing/latex/_antlr/latexparser.py:1651\u001b[0m, in \u001b[0;36mLaTeXParser.comp\u001b[0;34m(self)\u001b[0m\n\u001b[1;32m   1649\u001b[0m     \u001b[39mself\u001b[39m\u001b[39m.\u001b[39menterOuterAlt(localctx, \u001b[39m1\u001b[39m)\n\u001b[1;32m   1650\u001b[0m     \u001b[39mself\u001b[39m\u001b[39m.\u001b[39mstate \u001b[39m=\u001b[39m \u001b[39m236\u001b[39m\n\u001b[0;32m-> 1651\u001b[0m     \u001b[39mself\u001b[39;49m\u001b[39m.\u001b[39;49mgroup()\n\u001b[1;32m   1652\u001b[0m     \u001b[39mpass\u001b[39;00m\n\u001b[1;32m   1654\u001b[0m \u001b[39melif\u001b[39;00m la_ \u001b[39m==\u001b[39m \u001b[39m2\u001b[39m:\n",
      "File \u001b[0;32m/home/linuxbrew/.linuxbrew/lib/python3.12/site-packages/sympy/parsing/latex/_antlr/latexparser.py:1865\u001b[0m, in \u001b[0;36mLaTeXParser.group\u001b[0;34m(self)\u001b[0m\n\u001b[1;32m   1863\u001b[0m \u001b[39mexcept\u001b[39;00m RecognitionException \u001b[39mas\u001b[39;00m re:\n\u001b[1;32m   1864\u001b[0m     localctx\u001b[39m.\u001b[39mexception \u001b[39m=\u001b[39m re\n\u001b[0;32m-> 1865\u001b[0m     \u001b[39mself\u001b[39;49m\u001b[39m.\u001b[39;49m_errHandler\u001b[39m.\u001b[39;49mreportError(\u001b[39mself\u001b[39;49m, re)\n\u001b[1;32m   1866\u001b[0m     \u001b[39mself\u001b[39m\u001b[39m.\u001b[39m_errHandler\u001b[39m.\u001b[39mrecover(\u001b[39mself\u001b[39m, re)\n\u001b[1;32m   1867\u001b[0m \u001b[39mfinally\u001b[39;00m:\n",
      "File \u001b[0;32m/home/linuxbrew/.linuxbrew/lib/python3.12/site-packages/antlr4/error/ErrorStrategy.py:128\u001b[0m, in \u001b[0;36mDefaultErrorStrategy.reportError\u001b[0;34m(self, recognizer, e)\u001b[0m\n\u001b[1;32m    126\u001b[0m     \u001b[39mself\u001b[39m\u001b[39m.\u001b[39mreportNoViableAlternative(recognizer, e)\n\u001b[1;32m    127\u001b[0m \u001b[39melif\u001b[39;00m \u001b[39misinstance\u001b[39m( e, InputMismatchException ):\n\u001b[0;32m--> 128\u001b[0m     \u001b[39mself\u001b[39;49m\u001b[39m.\u001b[39;49mreportInputMismatch(recognizer, e)\n\u001b[1;32m    129\u001b[0m \u001b[39melif\u001b[39;00m \u001b[39misinstance\u001b[39m( e, FailedPredicateException ):\n\u001b[1;32m    130\u001b[0m     \u001b[39mself\u001b[39m\u001b[39m.\u001b[39mreportFailedPredicate(recognizer, e)\n",
      "File \u001b[0;32m/home/linuxbrew/.linuxbrew/lib/python3.12/site-packages/antlr4/error/ErrorStrategy.py:275\u001b[0m, in \u001b[0;36mDefaultErrorStrategy.reportInputMismatch\u001b[0;34m(self, recognizer, e)\u001b[0m\n\u001b[1;32m    272\u001b[0m \u001b[39mdef\u001b[39;00m \u001b[39mreportInputMismatch\u001b[39m(\u001b[39mself\u001b[39m, recognizer:Parser, e:InputMismatchException):\n\u001b[1;32m    273\u001b[0m     msg \u001b[39m=\u001b[39m \u001b[39m\"\u001b[39m\u001b[39mmismatched input \u001b[39m\u001b[39m\"\u001b[39m \u001b[39m+\u001b[39m \u001b[39mself\u001b[39m\u001b[39m.\u001b[39mgetTokenErrorDisplay(e\u001b[39m.\u001b[39moffendingToken) \\\n\u001b[1;32m    274\u001b[0m           \u001b[39m+\u001b[39m \u001b[39m\"\u001b[39m\u001b[39m expecting \u001b[39m\u001b[39m\"\u001b[39m \u001b[39m+\u001b[39m e\u001b[39m.\u001b[39mgetExpectedTokens()\u001b[39m.\u001b[39mtoString(recognizer\u001b[39m.\u001b[39mliteralNames, recognizer\u001b[39m.\u001b[39msymbolicNames)\n\u001b[0;32m--> 275\u001b[0m     recognizer\u001b[39m.\u001b[39;49mnotifyErrorListeners(msg, e\u001b[39m.\u001b[39;49moffendingToken, e)\n",
      "File \u001b[0;32m/home/linuxbrew/.linuxbrew/lib/python3.12/site-packages/antlr4/Parser.py:322\u001b[0m, in \u001b[0;36mParser.notifyErrorListeners\u001b[0;34m(self, msg, offendingToken, e)\u001b[0m\n\u001b[1;32m    320\u001b[0m column \u001b[39m=\u001b[39m offendingToken\u001b[39m.\u001b[39mcolumn\n\u001b[1;32m    321\u001b[0m listener \u001b[39m=\u001b[39m \u001b[39mself\u001b[39m\u001b[39m.\u001b[39mgetErrorListenerDispatch()\n\u001b[0;32m--> 322\u001b[0m listener\u001b[39m.\u001b[39;49msyntaxError(\u001b[39mself\u001b[39;49m, offendingToken, line, column, msg, e)\n",
      "File \u001b[0;32m/home/linuxbrew/.linuxbrew/lib/python3.12/site-packages/antlr4/error/ErrorListener.py:60\u001b[0m, in \u001b[0;36mProxyErrorListener.syntaxError\u001b[0;34m(self, recognizer, offendingSymbol, line, column, msg, e)\u001b[0m\n\u001b[1;32m     58\u001b[0m \u001b[39mdef\u001b[39;00m \u001b[39msyntaxError\u001b[39m(\u001b[39mself\u001b[39m, recognizer, offendingSymbol, line, column, msg, e):\n\u001b[1;32m     59\u001b[0m     \u001b[39mfor\u001b[39;00m delegate \u001b[39min\u001b[39;00m \u001b[39mself\u001b[39m\u001b[39m.\u001b[39mdelegates:\n\u001b[0;32m---> 60\u001b[0m         delegate\u001b[39m.\u001b[39;49msyntaxError(recognizer, offendingSymbol, line, column, msg, e)\n",
      "File \u001b[0;32m/home/linuxbrew/.linuxbrew/lib/python3.12/site-packages/sympy/parsing/latex/_parse_latex_antlr.py:58\u001b[0m, in \u001b[0;36mMathErrorListener.syntaxError\u001b[0;34m(self, recog, symbol, line, col, msg, e)\u001b[0m\n\u001b[1;32m     56\u001b[0m \u001b[39melse\u001b[39;00m:\n\u001b[1;32m     57\u001b[0m     err \u001b[39m=\u001b[39m fmt \u001b[39m%\u001b[39m (\u001b[39m\"\u001b[39m\u001b[39mI don\u001b[39m\u001b[39m'\u001b[39m\u001b[39mt understand this\u001b[39m\u001b[39m\"\u001b[39m, \u001b[39mself\u001b[39m\u001b[39m.\u001b[39msrc, marker)\n\u001b[0;32m---> 58\u001b[0m \u001b[39mraise\u001b[39;00m LaTeXParsingError(err)\n",
      "\u001b[0;31mLaTeXParsingError\u001b[0m: I expected one of these: ')'\n(7 + sympy.sqrt(2)) / (7 - sympy.sqrt(5))\n~~~~~~~~~~^"
     ]
    }
   ],
   "source": [
    "d = RandOperation(unit)\n",
    "d //= unit\n",
    "print(TeX(d), \"=\", Eval(d))"
   ]
  },
  {
   "cell_type": "code",
   "execution_count": null,
   "metadata": {},
   "outputs": [
    {
     "name": "stdout",
     "output_type": "stream",
     "text": [
      "\\frac{7}{71} \\div \\frac{7}{97} = 97/71\n"
     ]
    }
   ],
   "source": [
    "d = RandOperation(unit)\n",
    "d <<= unit\n",
    "print(TeX(d), \"=\", Eval(d))"
   ]
  }
 ],
 "metadata": {
  "kernelspec": {
   "display_name": ".venv",
   "language": "python",
   "name": "python3"
  },
  "language_info": {
   "codemirror_mode": {
    "name": "ipython",
    "version": 3
   },
   "file_extension": ".py",
   "mimetype": "text/x-python",
   "name": "python",
   "nbconvert_exporter": "python",
   "pygments_lexer": "ipython3",
   "version": "3.13.2"
  }
 },
 "nbformat": 4,
 "nbformat_minor": 2
}
